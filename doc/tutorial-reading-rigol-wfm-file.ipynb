{
 "cells": [
  {
   "cell_type": "markdown",
   "metadata": {},
   "source": [
    "# Tutorial: Reading Rigol Stored Waveforms\n",
    "\n",
    "**Scott Prahl**\n",
    "\n",
    "**Jan 2020**"
   ]
  },
  {
   "cell_type": "code",
   "execution_count": 1,
   "metadata": {},
   "outputs": [],
   "source": [
    "import subprocess\n",
    "import numpy as np\n",
    "import matplotlib.pyplot as plt\n",
    "\n",
    "import RigolWFM.wfm as wfm"
   ]
  },
  {
   "cell_type": "markdown",
   "metadata": {},
   "source": [
    "## Introduction\n",
    "\n",
    "So you have saved a trace with the Rigol scope as a file and want to use it in a lab report.  You opted not to change the default to csv format and are stuck with a file names `test.wfm`\n",
    "\n",
    "One option is to go to [Rigol](https://rigol.desk.com/customer/en/portal/articles/2282335-wfm-converter) and download their converter.\n",
    "\n",
    "If you want to work completely within the Jupyter notebook framework then you'll need to download a library."
   ]
  },
  {
   "cell_type": "code",
   "execution_count": 2,
   "metadata": {},
   "outputs": [],
   "source": [
    "#import sys\n",
    "#!{sys.executable} -m pip install RigolWFM"
   ]
  },
  {
   "cell_type": "code",
   "execution_count": 3,
   "metadata": {},
   "outputs": [
    {
     "data": {
      "image/png": "[encoded data removed]",
      "text/plain": [
       "<Figure size 432x288 with 1 Axes>"
      ]
     },
     "metadata": {
      "needs_background": "light"
     },
     "output_type": "display_data"
    }
   ],
   "source": [
    "data = wfm.signals(\"DS1102E.wfm\")\n",
    "\n",
    "t,y = data\n",
    "plt.plot(t,y)\n",
    "plt.xlabel(\"Time (s)\")\n",
    "plt.ylabel(\"Volts (V)\")\n",
    "plt.show()\n"
   ]
  },
  {
   "cell_type": "code",
   "execution_count": 4,
   "metadata": {},
   "outputs": [
    {
     "name": "stdout",
     "output_type": "stream",
     "text": [
      "\n",
      "General\n",
      "=======\n",
      "Cur. selected channel    : CH1\n",
      "Alternate trigger        : False\n",
      "\n",
      "Channel CH1\n",
      "===========\n",
      "Enabled                  : 1\n",
      "Probe attenuation        : 1.0\n",
      "Y grid scale             : 1.000e+00 V/div\n",
      "Y shift                  : -3.440e+00 V\n",
      "Y inverted               : 0\n",
      "Time grid scale          : 1.000e-01 s/div\n",
      "Samplerate               : 1.365e+04 Samples/s\n",
      "Time delay               : -4.560e-01 s\n",
      "No. of recorded samples  : 16384\n",
      "\n",
      "Trigger\n",
      "=======\n",
      "Mode                     : Edge\n",
      "Source                   : CH2\n",
      "Coupling                 : DC\n",
      "Sweep                    : Auto\n",
      "Holdoff                  : 5.000e-07 s\n",
      "Sensitivity              : 3.800e-01 div\n",
      "Level                    : 4.800e-01 V\n",
      "Edge direction           : FALL\n",
      "\n",
      "Channel CH2\n",
      "===========\n",
      "Enabled                  : 0\n",
      "\n",
      "Trigger\n",
      "=======\n",
      "Mode                     : Edge\n",
      "Source                   : CH2\n",
      "Coupling                 : DC\n",
      "Sweep                    : Auto\n",
      "Holdoff                  : 5.000e-07 s\n",
      "Sensitivity              : 3.800e-01 div\n",
      "Level                    : 4.800e-01 V\n",
      "Edge direction           : FALL\n",
      "\n",
      "Channel CHLA\n",
      "============\n",
      "Enabled                  : 0\n",
      "\n",
      "Trigger\n",
      "=======\n",
      "Mode                     : Edge\n",
      "Source                   : CH2\n",
      "Coupling                 : DC\n",
      "Sweep                    : Auto\n",
      "Holdoff                  : 5.000e-07 s\n",
      "Sensitivity              : 3.800e-01 div\n",
      "Level                    : 4.800e-01 V\n",
      "Edge direction           : FALL\n",
      "\n"
     ]
    }
   ],
   "source": [
    "x = wfm.describe(\"DS1102E.wfm\")\n",
    "print(x)"
   ]
  }
 ],
 "metadata": {
  "kernelspec": {
   "display_name": "Python 3",
   "language": "python",
   "name": "python3"
  },
  "language_info": {
   "codemirror_mode": {
    "name": "ipython",
    "version": 3
   },
   "file_extension": ".py",
   "mimetype": "text/x-python",
   "name": "python",
   "nbconvert_exporter": "python",
   "pygments_lexer": "ipython3",
   "version": "3.7.5"
  }
 },
 "nbformat": 4,
 "nbformat_minor": 2
}
