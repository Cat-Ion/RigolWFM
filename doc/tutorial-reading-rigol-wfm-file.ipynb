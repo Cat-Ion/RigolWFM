{
 "cells": [
  {
   "cell_type": "markdown",
   "metadata": {},
   "source": [
    "# Tutorial: Reading Rigol Stored Waveforms\n",
    "\n",
    "**Scott Prahl**\n",
    "\n",
    "**Jan 2020**"
   ]
  },
  {
   "cell_type": "code",
   "execution_count": 1,
   "metadata": {},
   "outputs": [],
   "source": [
    "import subprocess\n",
    "import numpy as np\n",
    "import matplotlib.pyplot as plt\n",
    "\n",
    "import RigolWFM.wfm as wfm\n",
    "\n",
    "def read_wfm(filter_name, wfm_file):\n",
    "    result = subprocess.run([\"python\", filter_name, \"csv\", wfm_file], capture_output=True)\n",
    "\n",
    "    # split on the linefeeds\n",
    "    alist  = np.array(result.stdout.decode().split('\\n'))\n",
    "    \n",
    "    # drop the first two columns (header) and the last (empty)\n",
    "    blist = alist[2:-1]\n",
    "    \n",
    "    t = np.zeros_like(blist, dtype=float)\n",
    "    y = np.zeros_like(blist, dtype=float)\n",
    "\n",
    "    # the extra comma on each line means that split returns three values not two\n",
    "    for i,row in enumerate(blist):\n",
    "        row_val = str(row).split(',')\n",
    "        t[i] = row_val[0]\n",
    "        y[i] = row_val[1]\n",
    "    return t,y"
   ]
  },
  {
   "cell_type": "code",
   "execution_count": 2,
   "metadata": {},
   "outputs": [],
   "source": [
    "def convert_wfm(wfm_file):\n",
    "\n",
    "    try:\n",
    "        f = open(wfm_file, 'rb')\n",
    "    except (OSError, IOError) as e:\n",
    "        print('Unable to open %s for reading.' % filename)\n",
    "        return\n",
    "\n",
    "    try:\n",
    "        scopeData = wfm.parseRigolWFM(f)\n",
    "    except wfm.FormatError:\n",
    "        print(\"Format does not follow the known file format.\")\n",
    "        return\n",
    "\n",
    "    f.close()\n",
    "    \n",
    "    if scopeData[\"alternateTrigger\"]:\n",
    "        data = np.zeros(4, dtype=np.array)\n",
    "        data[0] = np.array(scopeData[\"channel\"][1][\"samples\"][\"time\"])\n",
    "        data[1] = np.array(scopeData[\"channel\"][1][\"samples\"][\"volts\"])\n",
    "        data[2] = np.array(scopeData[\"channel\"][2][\"samples\"][\"time\"])\n",
    "        data[3] = np.array(scopeData[\"channel\"][2][\"samples\"][\"volts\"])\n",
    "        return data\n",
    "\n",
    "    channels = []\n",
    "    for channel in range(1,3):\n",
    "        if scopeData[\"channel\"][channel][\"enabled\"]:\n",
    "            channels.append(channel)\n",
    "\n",
    "    data = []\n",
    "    data.append(scopeData[\"channel\"][channels[0]][\"samples\"][\"time\"])\n",
    "    for channel in channels:\n",
    "        data.append(scopeData[\"channel\"][channel][\"samples\"][\"volts\"])\n",
    "\n",
    "    return np.array(data)\n",
    "\n",
    "def describe_wfm(wfm_file):\n",
    "\n",
    "    try:\n",
    "        f = open(wfm_file, 'rb')\n",
    "    except (OSError, IOError) as e:\n",
    "        print('Unable to open %s for reading.' % filename)\n",
    "        return\n",
    "\n",
    "    try:\n",
    "        scopeData = wfm.parseRigolWFM(f)\n",
    "    except wfm.FormatError:\n",
    "        print(\"Format does not follow the known file format.\", file=sys.stderr)\n",
    "        return\n",
    "    \n",
    "    desc = wfm.describeScopeData(scopeData)\n",
    "    f.close()\n",
    "    return desc"
   ]
  },
  {
   "cell_type": "markdown",
   "metadata": {},
   "source": [
    "## Introduction\n",
    "\n",
    "So you have saved a trace with the Rigol scope as a file and want to use it in a lab report.  You opted not to change the default to csv format and are stuck with a file names `test.wfm`\n",
    "\n",
    "One option is to go to [Rigol](https://rigol.desk.com/customer/en/portal/articles/2282335-wfm-converter) and download their converter.\n",
    "\n",
    "If you want to work completely within the Jupyter notebook framework then you'll need to download a library."
   ]
  },
  {
   "cell_type": "code",
   "execution_count": 3,
   "metadata": {},
   "outputs": [],
   "source": [
    "#import sys\n",
    "#!{sys.executable} -m pip install pyRigolWFM\n"
   ]
  },
  {
   "cell_type": "code",
   "execution_count": 10,
   "metadata": {},
   "outputs": [
    {
     "data": {
      "image/png": "[encoded data removed]",
      "text/plain": [
       "<Figure size 432x288 with 1 Axes>"
      ]
     },
     "metadata": {
      "needs_background": "light"
     },
     "output_type": "display_data"
    }
   ],
   "source": [
    "app = \"/Users/prahl/Documents/Code/git/rigol_wfm/wfmutil.py\"\n",
    "file = \"/Users/prahl/Documents/Code/git/RigolWFM/doc/DS1102E.wfm\"\n",
    "\n",
    "result = subprocess.run([\"python\", app, \"csv\", file], capture_output=True)\n",
    "\n",
    "t, y = read_wfm(app,file)\n",
    "plt.plot(t,y)\n",
    "plt.xlabel(\"time (s)\")\n",
    "plt.ylabel(\"voltage (V)\")\n",
    "plt.title(\"contents of %s\" % file)\n",
    "plt.show()"
   ]
  },
  {
   "cell_type": "code",
   "execution_count": 5,
   "metadata": {},
   "outputs": [
    {
     "data": {
      "image/png": "[encoded data removed]",
      "text/plain": [
       "<Figure size 432x288 with 1 Axes>"
      ]
     },
     "metadata": {
      "needs_background": "light"
     },
     "output_type": "display_data"
    }
   ],
   "source": [
    "file = \"laser-modes-1.wfm\"\n",
    "\n",
    "result = subprocess.run([\"python\", app, \"csv\", file], capture_output=True)\n",
    "\n",
    "t, y = read_wfm(app,file)\n",
    "plt.plot(t,y)\n",
    "plt.xlabel(\"time (s)\")\n",
    "plt.ylabel(\"voltage (V)\")\n",
    "plt.title(\"contents of %s\" % file)\n",
    "plt.show()"
   ]
  },
  {
   "cell_type": "code",
   "execution_count": 6,
   "metadata": {},
   "outputs": [
    {
     "data": {
      "image/png": "[encoded data removed]",
      "text/plain": [
       "<Figure size 432x288 with 1 Axes>"
      ]
     },
     "metadata": {
      "needs_background": "light"
     },
     "output_type": "display_data"
    }
   ],
   "source": [
    "file = \"laser-modes-2.wfm\"\n",
    "\n",
    "result = subprocess.run([\"python\", app, \"csv\", file], capture_output=True)\n",
    "\n",
    "t, y = read_wfm(app,file)\n",
    "plt.plot(t,y)\n",
    "plt.xlabel(\"time (s)\")\n",
    "plt.ylabel(\"voltage (V)\")\n",
    "plt.title(\"contents of %s\" % file)\n",
    "plt.show()"
   ]
  },
  {
   "cell_type": "code",
   "execution_count": 7,
   "metadata": {},
   "outputs": [
    {
     "data": {
      "text/plain": [
       "['FormatError',\n",
       " '__all__',\n",
       " '__builtins__',\n",
       " '__cached__',\n",
       " '__doc__',\n",
       " '__file__',\n",
       " '__loader__',\n",
       " '__name__',\n",
       " '__package__',\n",
       " '__spec__',\n",
       " '_parseFile',\n",
       " 'array',\n",
       " 'collections',\n",
       " 'decodeNullTerminatedStr',\n",
       " 'describe',\n",
       " 'describeScopeData',\n",
       " 'getCenterValue',\n",
       " 'getRecordLength',\n",
       " 'np',\n",
       " 'parseRigolWFM',\n",
       " 'signals',\n",
       " 'struct']"
      ]
     },
     "execution_count": 7,
     "metadata": {},
     "output_type": "execute_result"
    }
   ],
   "source": [
    "dir(wfm)"
   ]
  },
  {
   "cell_type": "code",
   "execution_count": 8,
   "metadata": {},
   "outputs": [
    {
     "name": "stdout",
     "output_type": "stream",
     "text": [
      "Format does not follow the known file format. Try the --forgiving option.\n",
      "If you'd like to help development, please report this error:\n",
      "\n",
      "Field unknown1 == 65281 not met, got 42405\n"
     ]
    },
    {
     "ename": "ValueError",
     "evalue": "not enough values to unpack (expected 2, got 0)",
     "output_type": "error",
     "traceback": [
      "\u001b[0;31m---------------------------------------------------------------------------\u001b[0m",
      "\u001b[0;31mValueError\u001b[0m                                Traceback (most recent call last)",
      "\u001b[0;32m<ipython-input-8-636cfd11751f>\u001b[0m in \u001b[0;36m<module>\u001b[0;34m\u001b[0m\n\u001b[1;32m      1\u001b[0m \u001b[0mdata\u001b[0m \u001b[0;34m=\u001b[0m \u001b[0mwfm\u001b[0m\u001b[0;34m.\u001b[0m\u001b[0msignals\u001b[0m\u001b[0;34m(\u001b[0m\u001b[0;34m\"DS1052E.wfm\"\u001b[0m\u001b[0;34m)\u001b[0m\u001b[0;34m\u001b[0m\u001b[0;34m\u001b[0m\u001b[0m\n\u001b[1;32m      2\u001b[0m \u001b[0;34m\u001b[0m\u001b[0m\n\u001b[0;32m----> 3\u001b[0;31m \u001b[0mt\u001b[0m\u001b[0;34m,\u001b[0m\u001b[0my\u001b[0m \u001b[0;34m=\u001b[0m \u001b[0mdata\u001b[0m\u001b[0;34m\u001b[0m\u001b[0;34m\u001b[0m\u001b[0m\n\u001b[0m\u001b[1;32m      4\u001b[0m \u001b[0mplt\u001b[0m\u001b[0;34m.\u001b[0m\u001b[0mplot\u001b[0m\u001b[0;34m(\u001b[0m\u001b[0mt\u001b[0m\u001b[0;34m,\u001b[0m\u001b[0my\u001b[0m\u001b[0;34m)\u001b[0m\u001b[0;34m\u001b[0m\u001b[0;34m\u001b[0m\u001b[0m\n\u001b[1;32m      5\u001b[0m \u001b[0mplt\u001b[0m\u001b[0;34m.\u001b[0m\u001b[0mshow\u001b[0m\u001b[0;34m(\u001b[0m\u001b[0;34m)\u001b[0m\u001b[0;34m\u001b[0m\u001b[0;34m\u001b[0m\u001b[0m\n",
      "\u001b[0;31mValueError\u001b[0m: not enough values to unpack (expected 2, got 0)"
     ]
    }
   ],
   "source": [
    "data = wfm.signals(\"DS1052E.wfm\")\n",
    "\n",
    "t,y = data\n",
    "plt.plot(t,y)\n",
    "plt.show()\n"
   ]
  },
  {
   "cell_type": "code",
   "execution_count": null,
   "metadata": {},
   "outputs": [],
   "source": [
    "x = describe_wfm(\"laser-modes-0.wfm\")\n",
    "print(x)"
   ]
  },
  {
   "cell_type": "code",
   "execution_count": null,
   "metadata": {},
   "outputs": [],
   "source": [
    "dir(RigolWFM)"
   ]
  },
  {
   "cell_type": "code",
   "execution_count": null,
   "metadata": {},
   "outputs": [],
   "source": []
  }
 ],
 "metadata": {
  "kernelspec": {
   "display_name": "Python 3",
   "language": "python",
   "name": "python3"
  },
  "language_info": {
   "codemirror_mode": {
    "name": "ipython",
    "version": 3
   },
   "file_extension": ".py",
   "mimetype": "text/x-python",
   "name": "python",
   "nbconvert_exporter": "python",
   "pygments_lexer": "ipython3",
   "version": "3.7.5"
  }
 },
 "nbformat": 4,
 "nbformat_minor": 2
}
